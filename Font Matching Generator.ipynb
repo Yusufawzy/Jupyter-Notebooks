{
 "cells": [
  {
   "cell_type": "markdown",
   "metadata": {
    "slideshow": {
     "slide_type": "subslide"
    }
   },
   "source": [
    "# Font <span class=\"girk\">Generato</span>r\n",
    "**Yusuf Fawzy Program**\n",
    "\n"
   ]
  },
  {
   "cell_type": "markdown",
   "metadata": {},
   "source": [
    "# The Imports"
   ]
  },
  {
   "cell_type": "code",
   "execution_count": 13,
   "metadata": {
    "ExecuteTime": {
     "end_time": "2018-09-18T03:17:56.287607Z",
     "start_time": "2018-09-18T03:17:47.936262Z"
    }
   },
   "outputs": [],
   "source": [
    "import os\n",
    "from bidi.algorithm import get_display\n",
    "import matplotlib.pyplot as plt\n",
    "from PIL import ImageFont, Image, ImageDraw\n",
    "import numpy as np\n",
    "import math\n",
    "%matplotlib inline\n",
    "import arabic_reshaper\n",
    "\n",
    "from skimage.measure import structural_similarity as ssim, compare_ssim"
   ]
  },
  {
   "cell_type": "markdown",
   "metadata": {},
   "source": [
    "# Get Font and Pics Names"
   ]
  },
  {
   "cell_type": "code",
   "execution_count": 22,
   "metadata": {
    "ExecuteTime": {
     "end_time": "2018-09-18T18:18:27.153625Z",
     "start_time": "2018-09-18T18:18:27.134765Z"
    }
   },
   "outputs": [
    {
     "name": "stderr",
     "output_type": "stream",
     "text": [
      "\n",
      "  0%|                                                                                        | 0/10000 [00:00<?, ?it/s]\n",
      "100%|███████████████████████████████████████████████████████████████████████| 10000/10000 [00:00<00:00, 1411700.72it/s]"
     ]
    }
   ],
   "source": [
    "from tqdm import tqdm\n",
    "import numpy as np\n",
    "for i in tqdm(range(10000)):\n",
    "    pass"
   ]
  },
  {
   "cell_type": "code",
   "execution_count": 9,
   "metadata": {
    "ExecuteTime": {
     "end_time": "2018-09-18T03:17:11.540761Z",
     "start_time": "2018-09-18T03:17:08.739872Z"
    },
    "code_folding": [],
    "lang": "en"
   },
   "outputs": [
    {
     "data": {
      "text/plain": [
       "'وثنية'"
      ]
     },
     "execution_count": 9,
     "metadata": {},
     "output_type": "execute_result"
    },
    {
     "data": {
      "image/png": "[encoded data removed]",
      "text/plain": [
       "<Figure size 432x288 with 1 Axes>"
      ]
     },
     "metadata": {},
     "output_type": "display_data"
    }
   ],
   "source": [
    "# old folder of Images\n",
    "img_threshold_path = 'C:/Users\\Yusuf\\Desktop\\ToManipulate\\Photo'\n",
    "txt_threshold_path = 'C:/Users\\Yusuf\\Desktop\\ToManipulate\\Text'\n",
    "photo_names_threshold = os.listdir(img_threshold_path)\n",
    "photo_text_threshold = os.listdir(txt_threshold_path)\n",
    "\n",
    "joe = open(txt_threshold_path+'/'+photo_text_threshold[0], encoding='utf-8')\n",
    "plt.imshow(Image.open(img_threshold_path+'/'+photo_names_threshold[0]))\n",
    "open(txt_threshold_path+'/'+photo_text_threshold[0], encoding='utf-8').read()"
   ]
  },
  {
   "cell_type": "code",
   "execution_count": 10,
   "metadata": {
    "ExecuteTime": {
     "end_time": "2018-09-18T03:17:14.577698Z",
     "start_time": "2018-09-18T03:17:14.565927Z"
    }
   },
   "outputs": [
    {
     "name": "stdout",
     "output_type": "stream",
     "text": [
      "['AL-Mohanad-Bold.ttf', 'andlso.ttf', 'arial.ttf', 'arialbd.ttf', 'calibri.ttf', 'calibrib.ttf', 'calibril.ttf', 'cour.ttf', 'courbd.ttf', 'Greta-Arabic-Bold-Italic.ttf', 'majalla.ttf', 'majallab.ttf', 'micross.ttf', 'segoeui.ttf', 'segoeuib.ttf', 'segoeuil.ttf', 'segoeuisl.ttf', 'seguisb.ttf', 'Sp_Badr-Bold_p30download.com_.ttf', 'Sp_Badr_p30download.com_.ttf', 'Sp_Compset-Bold_p30download.com_.ttf', 'Sp_Lotus-Bold_p30download.com_.ttf', 'Sp_Nazanin-Bold_p30download.com_.ttf', 'Sp_Yagut-Bold_p30download.com_.ttf', 'tahoma.ttf', 'tahomabd.ttf', 'times.ttf', 'timesbd.ttf', 'tradbdo.ttf', 'trado.ttf', 'XB-KayhanBd.ttf']\n",
      "31\n"
     ]
    }
   ],
   "source": [
    "fonts = []\n",
    "#get all the fonts I have here\n",
    "for i in os.listdir('.'):\n",
    "    if i.endswith('.ttf'):\n",
    "        fonts.append(i)\n",
    "print(fonts)\n",
    "print(len(fonts))"
   ]
  },
  {
   "cell_type": "markdown",
   "metadata": {},
   "source": [
    "# Getting the threshold of average of 60 photo"
   ]
  },
  {
   "cell_type": "code",
   "execution_count": 11,
   "metadata": {
    "ExecuteTime": {
     "end_time": "2018-09-18T03:17:24.564630Z",
     "start_time": "2018-09-18T03:17:24.556220Z"
    }
   },
   "outputs": [],
   "source": [
    "def get(data):\n",
    "    data = np.array(data)\n",
    "    return (data - data.mean()) / data.std()"
   ]
  },
  {
   "cell_type": "code",
   "execution_count": 14,
   "metadata": {
    "ExecuteTime": {
     "end_time": "2018-09-18T03:18:05.400797Z",
     "start_time": "2018-09-18T03:18:02.723043Z"
    },
    "code_folding": [
     8
    ]
   },
   "outputs": [
    {
     "name": "stdout",
     "output_type": "stream",
     "text": [
      "1727.1318468491438\n",
      "[(14, 'segoeuib.ttf')]\n"
     ]
    },
    {
     "data": {
      "text/plain": [
       "<matplotlib.image.AxesImage at 0x1aeb3551a58>"
      ]
     },
     "execution_count": 14,
     "metadata": {},
     "output_type": "execute_result"
    },
    {
     "data": {
      "image/png": "[encoded data removed]",
      "text/plain": [
       "<Figure size 432x288 with 2 Axes>"
      ]
     },
     "metadata": {},
     "output_type": "display_data"
    }
   ],
   "source": [
    "# Compare using CrossCorrelation\n",
    "from scipy.signal.signaltools import correlate2d as c2d\n",
    "\n",
    "matchedFont = []\n",
    "matched_img = None\n",
    "threshold = []\n",
    "idx = 14\n",
    "orig = Image.open(img_threshold_path+\"/\"+photo_names_threshold[idx])\n",
    "txt_file = open(txt_threshold_path+'/' +\n",
    "                photo_text_threshold[idx], encoding='utf-8')\n",
    "txt_file = txt_file.read()\n",
    "maxi = -10000\n",
    "for i, f in enumerate(fonts):\n",
    "    # know size of text image\n",
    "    reshaped_text = arabic_reshaper.reshape(txt_file)\n",
    "    bidi_text = get_display(reshaped_text)\n",
    "    fnt = ImageFont.truetype(font=f, size=55)\n",
    "    font_size = fnt.getsize(bidi_text)\n",
    "    # make a blank image\n",
    "    img = Image.new('L', (font_size[0], font_size[1]), (255))\n",
    "    # draw the text into the blank image\n",
    "    d = ImageDraw.Draw(img)\n",
    "    d.text((0, 0), text=bidi_text, fill=(0), font=fnt)\n",
    "\n",
    "\n",
    "#         plt.subplot(1,len(fonts),i+1)\n",
    "#         plt.title(str(i) + f)\n",
    "#         plt.imshow(img)\n",
    "\n",
    "    c = c2d(get(img), get(orig), mode='same')\n",
    "    if (c.max() > maxi):\n",
    "        maxi = c.max()\n",
    "        xx = (i, f)\n",
    "# add the maxi of this particular photo with this particular font\n",
    "threshold.append(maxi)\n",
    "matchedFont.append(xx)\n",
    "\n",
    "threshold = np.array(threshold)\n",
    "Threshold = threshold.mean() - 2*(threshold.std())\n",
    "print(Threshold)\n",
    "print(matchedFont)\n",
    "plt.subplot(1, 2, 1)\n",
    "plt.imshow(orig)\n",
    "plt.subplot(1, 2, 2)\n",
    "plt.imshow(img)"
   ]
  },
  {
   "cell_type": "markdown",
   "metadata": {},
   "source": [
    "[0] => 4252.28292196 , [(25, 'tahomabd.ttf')]\n",
    "[1] => 7391.52415136 ,  [(25, 'tahomabd.ttf')]\n",
    "[2] => 3699.80881344, [(25, 'tahomabd.ttf')]\n",
    "[3] => 7088.87752797 ,  [(25, 'tahomabd.ttf')]\n",
    "[4] => 2856.57038144 , [(14, 'segoeuib.ttf')]\n",
    "[5] => 5401.14982765,   [(25, 'tahomabd.ttf')]\n",
    "[6] => 3725.46951996 ,[(30, 'XB-KayhanBd.ttf')]\n",
    "[7] => 1698.48127568 , [(14, 'segoeuib.ttf')]\n",
    "[8] => 2708.69642605 ,[(25, 'tahomabd.ttf')]\n",
    "[9] = > 5969.32074813,[(30, 'XB-KayhanBd.ttf')]\n",
    "[10]=> 2935.66567586, [(25, 'tahomabd.ttf')]\n",
    "[11]=> 2785.63695842,[(30, 'XB-KayhanBd.ttf')]\n",
    "[12] => 5307.33961048, [(25, 'tahomabd.ttf')]\n",
    "[13] => 2338.46479898,[(25, 'tahomabd.ttf')]\n",
    "[14]=> 1727.13184685, [(14, 'segoeuib.ttf')]"
   ]
  },
  {
   "cell_type": "code",
   "execution_count": 15,
   "metadata": {
    "ExecuteTime": {
     "end_time": "2018-09-18T03:18:43.310732Z",
     "start_time": "2018-09-18T03:18:09.163956Z"
    }
   },
   "outputs": [
    {
     "name": "stdout",
     "output_type": "stream",
     "text": [
      "-125.22429506823119\n",
      "[4252.28292196 7391.52415136 3699.80881344 7088.87752797 2126.16869685\n",
      " 5401.14982765 2388.65070973 1654.84499005 2708.69642605 5470.96605769\n",
      " 2935.66567586 2760.39846873 5307.33961048 2338.46479898 1625.86674455\n",
      " 4110.62038299  729.17443107  877.28183259 2802.09542334  936.84973224\n",
      " 2240.44383412 6531.72742836 3668.04725577 7664.17789049  364.54380107\n",
      " 6011.49257804 3616.64732266 4087.87522289 7253.28999019 7791.25755855\n",
      " 3394.68797086 2573.34337405 5330.842101   2114.94034371 2219.93437351\n",
      " 4770.70989158 5736.35283622 4729.62049916 3944.08547672 4914.59254145\n",
      " 1628.32071753 4406.281457   2846.52628627 5689.66980916 3220.0361439\n",
      " 2786.4975538  6611.06267189 2140.13327078 2628.2956218   949.66966121\n",
      " 5807.11090806 5640.30562101 6353.98445188 3797.33956041 7412.18811612\n",
      " 2038.57738897 5475.75534679  571.20774508 5857.54707399 2634.30491781]\n"
     ]
    }
   ],
   "source": [
    "#Compare using CrossCorrelation\n",
    "from scipy.signal.signaltools import correlate2d as c2d\n",
    "\n",
    "matchedFont = []\n",
    "matched_img = None\n",
    "threshold =[]\n",
    "\n",
    "for p in range(60):\n",
    "    orig = Image.open(img_threshold_path+\"/\"+photo_names_threshold[p])\n",
    "    txt_file = open(txt_threshold_path+'/'+photo_text_threshold[p],encoding='utf-8')\n",
    "    txt_file = txt_file.read()\n",
    "    maxi = -10000\n",
    "    #know size of text image\n",
    "    reshaped_text = arabic_reshaper.reshape(txt_file)\n",
    "    bidi_text = get_display(reshaped_text)\n",
    "    fnt = ImageFont.truetype(font = fonts[25],size=55)\n",
    "    font_size = fnt.getsize(bidi_text)\n",
    "    #make a blank image\n",
    "    img = Image.new('L',(font_size[0],font_size[1]),(255) )\n",
    "    #draw the text into the blank image\n",
    "    d = ImageDraw.Draw(img)\n",
    "    d.text((0,0),text=bidi_text, fill=(0),font=fnt)\n",
    "\n",
    "\n",
    "#         plt.subplot(1,len(fonts),i+1)\n",
    "#         plt.title(str(i) + f)\n",
    "#         plt.imshow(img)\n",
    "\n",
    "    c= c2d(get(img), get(orig),mode='same')\n",
    "    \n",
    "    #add the maxi of this particular photo with this particular font\n",
    "    threshold.append(c.max())\n",
    "    \n",
    "threshold=np.array(threshold)    \n",
    "Threshold = threshold.mean() - 2*(threshold.std())\n",
    "print(Threshold)\n",
    "print(threshold)\n"
   ]
  },
  {
   "cell_type": "code",
   "execution_count": 75,
   "metadata": {},
   "outputs": [
    {
     "name": "stdout",
     "output_type": "stream",
     "text": [
      "881.332419688\n"
     ]
    },
    {
     "data": {
      "text/plain": [
       "881.33241968831862"
      ]
     },
     "execution_count": 75,
     "metadata": {},
     "output_type": "execute_result"
    }
   ],
   "source": [
    "print( threshold.mean() - 1.5*(threshold.std()))\n",
    "Threshold =  threshold.mean() - 1.5*(threshold.std())\n",
    "Threshold\n"
   ]
  },
  {
   "cell_type": "markdown",
   "metadata": {},
   "source": [
    "<a id='comp'/>\n",
    "\n",
    "# Comparing Images \n"
   ]
  },
  {
   "cell_type": "code",
   "execution_count": 52,
   "metadata": {},
   "outputs": [
    {
     "name": "stdout",
     "output_type": "stream",
     "text": [
      "4000\n"
     ]
    }
   ],
   "source": [
    "image_folders_names = ['abwab','adab el rafydan','afaq arabya','el adib','el doha','el helal','el mnar','el qesa']\n",
    "image_names =[]\n",
    "text_names=[]\n",
    "pathImage =\"C:/Users/Yusuf/Desktop/RDI Data/test_data/words_images_new/\"\n",
    "pathText = \"C:/Users/Yusuf/Desktop/RDI Data/test_data/words_text/\"\n",
    "for i,name in enumerate(image_folders_names):\n",
    "    image_names.append([]); text_names.append([])\n",
    "    for photo_name in os.listdir(pathImage +name):\n",
    "        image_names[i].append(photo_name)\n",
    "        text_names[i].append(photo_name[:-3]+'txt')\n",
    "print(len(image_names[0]))"
   ]
  },
  {
   "cell_type": "code",
   "execution_count": 79,
   "metadata": {
    "scrolled": false
   },
   "outputs": [
    {
     "name": "stdout",
     "output_type": "stream",
     "text": [
      "35.8317663411 Al-ADIB_Al-ADIB_book_al-adib_al-adib_1942_issue_7_030_Line0_w7.bmp\n",
      "96.2479126982 Al-ADIB_Al-ADIB_book_al-adib_al-adib_1942_issue_7_030_Line12_w3.bmp\n",
      "662.340525784 Al-ADIB_Al-ADIB_book_al-adib_al-adib_1942_issue_7_030_Line13_w3.bmp\n",
      "416.35790093 Al-ADIB_Al-ADIB_book_al-adib_al-adib_1942_issue_7_030_Line15_w13.bmp\n",
      "38.2245200195 Al-ADIB_Al-ADIB_book_al-adib_al-adib_1942_issue_7_030_Line15_w6.bmp\n",
      "594.062869315 Al-ADIB_Al-ADIB_book_al-adib_al-adib_1942_issue_7_030_Line17_w2.bmp\n",
      "778.569642827 Al-ADIB_Al-ADIB_book_al-adib_al-adib_1942_issue_7_030_Line19_w12.bmp\n",
      "578.400385334 Al-ADIB_Al-ADIB_book_al-adib_al-adib_1942_issue_7_030_Line19_w3.bmp\n",
      "602.758219199 Al-ADIB_Al-ADIB_book_al-adib_al-adib_1942_issue_7_030_Line20_w3.bmp\n",
      "541.595565289 Al-ADIB_Al-ADIB_book_al-adib_al-adib_1942_issue_7_030_Line25_w3.bmp\n",
      "717.157646225 Al-ADIB_Al-ADIB_book_al-adib_al-adib_1942_issue_7_030_Line39_w5.bmp\n",
      "-1.01663122365e-12 Al-ADIB_Al-ADIB_book_al-adib_al-adib_1942_issue_7_030_Line41_w7.bmp\n",
      "11.7013858961 Al-ADIB_Al-ADIB_book_al-adib_al-adib_1942_issue_7_030_Line43_w1.bmp\n",
      "514.228464409 Al-ADIB_Al-ADIB_book_al-adib_al-adib_1942_issue_7_030_Line43_w2.bmp\n",
      "485.858985709 Al-ADIB_Al-ADIB_book_al-adib_al-adib_1942_issue_7_030_Line45_w11.bmp\n",
      "845.80978982 Al-ADIB_Al-ADIB_book_al-adib_al-adib_1942_issue_7_030_Line47_w3.bmp\n",
      "743.910672311 Al-ADIB_Al-ADIB_book_al-adib_al-adib_1942_issue_7_030_Line49_w9.bmp\n",
      "379.927047869 Al-ADIB_Al-ADIB_book_al-adib_al-adib_1942_issue_7_030_Line51_w15.bmp\n",
      "824.93091254 Al-ADIB_Al-ADIB_book_al-adib_al-adib_1942_issue_7_030_Line51_w2.bmp\n",
      "568.730083818 Al-ADIB_Al-ADIB_book_al-adib_al-adib_1942_issue_7_030_Line51_w5.bmp\n",
      "460.26633839 Al-ADIB_Al-ADIB_book_al-adib_al-adib_1942_issue_7_030_Line57_w10.bmp\n",
      "611.896099605 Al-ADIB_Al-ADIB_book_al-adib_al-adib_1942_issue_7_030_Line5_w1.bmp\n",
      "268.358982076 Al-ADIB_Al-ADIB_book_al-adib_al-adib_1942_issue_7_030_Line5_w10.bmp\n",
      "403.800930199 Al-ADIB_Al-ADIB_book_al-adib_al-adib_1942_issue_7_030_Line63_w11.bmp\n",
      "705.314096168 Al-ADIB_Al-ADIB_book_al-adib_al-adib_1942_issue_7_030_Line6_w7.bmp\n",
      "10.668983811 Al-ADIB_Al-ADIB_book_al-adib_al-adib_1948_issue_1_036_Line14_w4.bmp\n",
      "473.109274296 Al-ADIB_Al-ADIB_book_al-adib_al-adib_1948_issue_1_036_Line20_w3.bmp\n",
      "815.908598885 Al-ADIB_Al-ADIB_book_al-adib_al-adib_1948_issue_1_036_Line22_w5.bmp\n",
      "767.143307447 Al-ADIB_Al-ADIB_book_al-adib_al-adib_1948_issue_1_036_Line29_w3.bmp\n",
      "534.159151036 Al-ADIB_Al-ADIB_book_al-adib_al-adib_1948_issue_1_036_Line32_w3.bmp\n",
      "458.692956108 Al-ADIB_Al-ADIB_book_al-adib_al-adib_1948_issue_1_036_Line32_w5.bmp\n",
      "814.630567472 Al-ADIB_Al-ADIB_book_al-adib_al-adib_1948_issue_1_036_Line36_w3.bmp\n",
      "851.171303473 Al-ADIB_Al-ADIB_book_al-adib_al-adib_1948_issue_1_036_Line38_w1.bmp\n",
      "482.354469273 Al-ADIB_Al-ADIB_book_al-adib_al-adib_1948_issue_1_036_Line44_w4.bmp\n",
      "417.679990283 Al-ADIB_Al-ADIB_book_al-adib_al-adib_1948_issue_1_036_Line48_w5.bmp\n",
      "480.699406418 Al-ADIB_Al-ADIB_book_al-adib_al-adib_1948_issue_1_036_Line4_w4.bmp\n",
      "512.054386157 Al-ADIB_Al-ADIB_book_al-adib_al-adib_1948_issue_1_036_Line51_w6.bmp\n",
      "the mismatched photos names are :\n",
      "['Al-ADIB_Al-ADIB_book_al-adib_al-adib_1942_issue_7_030_Line0_w7.bmp', 'Al-ADIB_Al-ADIB_book_al-adib_al-adib_1942_issue_7_030_Line12_w3.bmp', 'Al-ADIB_Al-ADIB_book_al-adib_al-adib_1942_issue_7_030_Line13_w3.bmp', 'Al-ADIB_Al-ADIB_book_al-adib_al-adib_1942_issue_7_030_Line15_w13.bmp', 'Al-ADIB_Al-ADIB_book_al-adib_al-adib_1942_issue_7_030_Line15_w6.bmp', 'Al-ADIB_Al-ADIB_book_al-adib_al-adib_1942_issue_7_030_Line17_w2.bmp', 'Al-ADIB_Al-ADIB_book_al-adib_al-adib_1942_issue_7_030_Line19_w12.bmp', 'Al-ADIB_Al-ADIB_book_al-adib_al-adib_1942_issue_7_030_Line19_w3.bmp', 'Al-ADIB_Al-ADIB_book_al-adib_al-adib_1942_issue_7_030_Line20_w3.bmp', 'Al-ADIB_Al-ADIB_book_al-adib_al-adib_1942_issue_7_030_Line25_w3.bmp', 'Al-ADIB_Al-ADIB_book_al-adib_al-adib_1942_issue_7_030_Line39_w5.bmp', 'Al-ADIB_Al-ADIB_book_al-adib_al-adib_1942_issue_7_030_Line41_w7.bmp', 'Al-ADIB_Al-ADIB_book_al-adib_al-adib_1942_issue_7_030_Line43_w1.bmp', 'Al-ADIB_Al-ADIB_book_al-adib_al-adib_1942_issue_7_030_Line43_w2.bmp', 'Al-ADIB_Al-ADIB_book_al-adib_al-adib_1942_issue_7_030_Line45_w11.bmp', 'Al-ADIB_Al-ADIB_book_al-adib_al-adib_1942_issue_7_030_Line47_w3.bmp', 'Al-ADIB_Al-ADIB_book_al-adib_al-adib_1942_issue_7_030_Line49_w9.bmp', 'Al-ADIB_Al-ADIB_book_al-adib_al-adib_1942_issue_7_030_Line51_w15.bmp', 'Al-ADIB_Al-ADIB_book_al-adib_al-adib_1942_issue_7_030_Line51_w2.bmp', 'Al-ADIB_Al-ADIB_book_al-adib_al-adib_1942_issue_7_030_Line51_w5.bmp', 'Al-ADIB_Al-ADIB_book_al-adib_al-adib_1942_issue_7_030_Line57_w10.bmp', 'Al-ADIB_Al-ADIB_book_al-adib_al-adib_1942_issue_7_030_Line5_w1.bmp', 'Al-ADIB_Al-ADIB_book_al-adib_al-adib_1942_issue_7_030_Line5_w10.bmp', 'Al-ADIB_Al-ADIB_book_al-adib_al-adib_1942_issue_7_030_Line63_w11.bmp', 'Al-ADIB_Al-ADIB_book_al-adib_al-adib_1942_issue_7_030_Line6_w7.bmp', 'Al-ADIB_Al-ADIB_book_al-adib_al-adib_1948_issue_1_036_Line14_w4.bmp', 'Al-ADIB_Al-ADIB_book_al-adib_al-adib_1948_issue_1_036_Line20_w3.bmp', 'Al-ADIB_Al-ADIB_book_al-adib_al-adib_1948_issue_1_036_Line22_w5.bmp', 'Al-ADIB_Al-ADIB_book_al-adib_al-adib_1948_issue_1_036_Line29_w3.bmp', 'Al-ADIB_Al-ADIB_book_al-adib_al-adib_1948_issue_1_036_Line32_w3.bmp', 'Al-ADIB_Al-ADIB_book_al-adib_al-adib_1948_issue_1_036_Line32_w5.bmp', 'Al-ADIB_Al-ADIB_book_al-adib_al-adib_1948_issue_1_036_Line36_w3.bmp', 'Al-ADIB_Al-ADIB_book_al-adib_al-adib_1948_issue_1_036_Line38_w1.bmp', 'Al-ADIB_Al-ADIB_book_al-adib_al-adib_1948_issue_1_036_Line44_w4.bmp', 'Al-ADIB_Al-ADIB_book_al-adib_al-adib_1948_issue_1_036_Line48_w5.bmp', 'Al-ADIB_Al-ADIB_book_al-adib_al-adib_1948_issue_1_036_Line4_w4.bmp', 'Al-ADIB_Al-ADIB_book_al-adib_al-adib_1948_issue_1_036_Line51_w6.bmp']\n"
     ]
    }
   ],
   "source": [
    "#Compare using CrossCorrelation\n",
    "count = 0\n",
    "C_matrices=[]\n",
    "matched_font = None\n",
    "mismatched = []\n",
    "matched_img = None\n",
    "#plt.figure(figsize=(100,100))\n",
    "for j,pic_name in enumerate(image_names[3][:500]):\n",
    "    orig = Image.open(pathImage+image_folders_names[3]+'/'+pic_name)\n",
    "    txt_file = open(pathText+image_folders_names[3]+'/'+text_names[3][j],encoding='utf-8')\n",
    "    txt_file = txt_file.read()\n",
    "    \n",
    "    #know size of text image\n",
    "    reshaped_text = arabic_reshaper.reshape(txt_file)\n",
    "    bidi_text = get_display(reshaped_text)\n",
    "    fnt = ImageFont.truetype(font =fonts[25],size=55)\n",
    "    font_size = fnt.getsize(bidi_text)\n",
    "    #make a blank image\n",
    "    img = Image.new('L',(font_size[0],font_size[1]),(255))\n",
    "    #draw the text into the blank image\n",
    "    d = ImageDraw.Draw(img)\n",
    "    d.text((0,0),text=bidi_text, fill=(0),font=fnt)\n",
    "\n",
    "    c= c2d(get(img), get(orig),mode='same')\n",
    "    \n",
    "    # if (compare_ssim(np.array(orig),np.array(img))<minn):\n",
    "    if (c.max()>Threshold):\n",
    "        count+=1\n",
    "    else :\n",
    "        print(c.max(),pic_name)\n",
    "        mismatched.append(pic_name)\n",
    "    C_matrices.append(c.max())\n",
    "#count = count  / len(image_names[0])\n",
    "print('the mismatched photos names are :')\n",
    "print(mismatched)\n",
    "\n",
    "#plt.imshow(c)\n",
    "#print(compare_ssim(np.array(matched_img),np.array(orig)))"
   ]
  },
  {
   "cell_type": "code",
   "execution_count": 73,
   "metadata": {},
   "outputs": [
    {
     "name": "stdout",
     "output_type": "stream",
     "text": [
      "76\n"
     ]
    }
   ],
   "source": [
    "# 453.948913507 EL_qesa_book_al_arabi_al_arabi_1961_issue_26_068_Line37_w6.bmp\n",
    "# 843.958251877 EL_qesa_book_al_arabi_al_arabi_1961_issue_26_068_Line63_w0.bmp\n",
    "# 610.333329028 EL_qesa_book_al_arabi_al_arabi_1961_issue_26_068_Line63_w4.bmp\n",
    "# 798.87443925 EL_qesa_book_al_arabi_al_arabi_1961_issue_26_068_Line74_w3.bmp\n",
    "# 861.566020036 EL_qesa_book_al_arabi_al_arabi_1961_issue_37_065_Line10_w5.bmp\n",
    "# 822.28539964 EL_qesa_book_al_arabi_al_arabi_1961_issue_37_065_Line14_w3.bmp\n",
    "# 266.190790957 EL_qesa_book_al_arabi_al_arabi_1961_issue_37_065_Line14_w6.bmp\n",
    "# 166.414639687 EL_qesa_book_al_arabi_al_arabi_1961_issue_37_065_Line17_w6.bmp\n",
    "# 335.921338433 EL_qesa_book_al_arabi_al_arabi_1961_issue_37_065_Line19_w11.bmp\n",
    "# 776.865611834 EL_qesa_book_al_arabi_al_arabi_1961_issue_37_065_Line19_w3.bmp\n",
    "# 147.172071818 EL_qesa_book_al_arabi_al_arabi_1961_issue_37_065_Line20_w7.bmp\n",
    "# 741.91885621 EL_qesa_book_al_arabi_al_arabi_1961_issue_37_065_Line25_w3.bmp"
   ]
  },
  {
   "cell_type": "code",
   "execution_count": 69,
   "metadata": {},
   "outputs": [
    {
     "name": "stdout",
     "output_type": "stream",
     "text": [
      "76\n"
     ]
    }
   ],
   "source": [
    "Al-ADIB_Al-ADIB_book_al-adib_al-adib_1948_issue_1_036_Line5_w1"
   ]
  },
  {
   "cell_type": "code",
   "execution_count": 37,
   "metadata": {
    "scrolled": true
   },
   "outputs": [
    {
     "name": "stdout",
     "output_type": "stream",
     "text": [
      "Adab_AL_Rafidayn_Adab_AL_Rafidayn_book_adab_al_rafidayn_adab_al_rafidayn_1977_issue_8_386_Line15_w0.bmp\n",
      "Adab_AL_Rafidayn_Adab_AL_Rafidayn_book_adab_al_rafidayn_adab_al_rafidayn_1977_issue_8_386_Line15_w0.txt\n"
     ]
    }
   ],
   "source": [
    "n_book = 1 \n",
    "n_sample = 55\n",
    "print(image_names[n_book][n_sample])\n",
    "print(text_names[n_book][n_sample])"
   ]
  }
 ],
 "metadata": {
  "hide_input": false,
  "kernelspec": {
   "display_name": "Python 3",
   "language": "python",
   "name": "python3"
  },
  "language_info": {
   "codemirror_mode": {
    "name": "ipython",
    "version": 3
   },
   "file_extension": ".py",
   "mimetype": "text/x-python",
   "name": "python",
   "nbconvert_exporter": "python",
   "pygments_lexer": "ipython3",
   "version": "3.7.3"
  },
  "nbTranslate": {
   "displayLangs": [
    "ar"
   ],
   "hotkey": "alt-t",
   "langInMainMenu": true,
   "sourceLang": "en",
   "targetLang": "ar",
   "useGoogleTranslate": false
  },
  "toc": {
   "base_numbering": 1,
   "nav_menu": {},
   "number_sections": true,
   "sideBar": true,
   "skip_h1_title": false,
   "title_cell": "Table of Contents",
   "title_sidebar": "Contents",
   "toc_cell": false,
   "toc_position": {},
   "toc_section_display": true,
   "toc_window_display": false
  },
  "varInspector": {
   "cols": {
    "lenName": 16,
    "lenType": 16,
    "lenVar": 40
   },
   "kernels_config": {
    "python": {
     "delete_cmd_postfix": "",
     "delete_cmd_prefix": "del ",
     "library": "var_list.py",
     "varRefreshCmd": "print(var_dic_list())"
    },
    "r": {
     "delete_cmd_postfix": ") ",
     "delete_cmd_prefix": "rm(",
     "library": "var_list.r",
     "varRefreshCmd": "cat(var_dic_list()) "
    }
   },
   "oldHeight": 254,
   "position": {
    "height": "276px",
    "left": "1001px",
    "right": "20px",
    "top": "133px",
    "width": "514px"
   },
   "types_to_exclude": [
    "module",
    "function",
    "builtin_function_or_method",
    "instance",
    "_Feature"
   ],
   "varInspector_section_display": "block",
   "window_display": false
  }
 },
 "nbformat": 4,
 "nbformat_minor": 2
}
